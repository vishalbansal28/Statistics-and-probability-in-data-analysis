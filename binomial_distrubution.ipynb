{
 "cells": [
  {
   "cell_type": "code",
   "execution_count": 3,
   "metadata": {},
   "outputs": [],
   "source": [
    "import math\n",
    "import matplotlib.pyplot\n",
    "import numpy"
   ]
  },
  {
   "cell_type": "markdown",
   "metadata": {},
   "source": [
    "# Distribution Formula\n",
    "\n",
    "# Binomial Formula: C(n,k)*(P^k)* ((1-p)^n-k)"
   ]
  },
  {
   "cell_type": "code",
   "execution_count": 4,
   "metadata": {},
   "outputs": [],
   "source": [
    "def binomial(n, k, p):  \n",
    "    return math.comb(n, k) * (math.pow(p, k)) * (math.pow((1 - p), (n - k)))   "
   ]
  },
  {
   "cell_type": "markdown",
   "metadata": {},
   "source": [
    "We follow the steps below to draw and plot up to 20 values"
   ]
  },
  {
   "cell_type": "code",
   "execution_count": 6,
   "metadata": {},
   "outputs": [
    {
     "data": {
      "image/png": "[encoded data removed]",
      "text/plain": [
       "<Figure size 432x288 with 1 Axes>"
      ]
     },
     "metadata": {
      "needs_background": "light"
     },
     "output_type": "display_data"
    }
   ],
   "source": [
    "matplotlib.pyplot.rc('xtick')\n",
    "matplotlib.pyplot.rc('ytick')\n",
    "matplotlib.pyplot.xticks(range(0, 21))\n",
    "y_ticks = []\n",
    "for i in range(21):\n",
    "    y_ticks.append(binomial(20, i, 0.5))\n",
    "matplotlib.pyplot.bar(list(numpy.arange(0, 21)), y_ticks)\n",
    "matplotlib.pyplot.show()"
   ]
  }
 ],
 "metadata": {
  "interpreter": {
   "hash": "17734ff189b4436c516d46d1f5a00913ae47a388c0e7579bba90e11b22ff108a"
  },
  "kernelspec": {
   "display_name": "Python 3.9.6 64-bit",
   "language": "python",
   "name": "python3"
  },
  "language_info": {
   "codemirror_mode": {
    "name": "ipython",
    "version": 3
   },
   "file_extension": ".py",
   "mimetype": "text/x-python",
   "name": "python",
   "nbconvert_exporter": "python",
   "pygments_lexer": "ipython3",
   "version": "3.9.6"
  },
  "orig_nbformat": 4
 },
 "nbformat": 4,
 "nbformat_minor": 2
}
